{
 "cells": [
  {
   "cell_type": "markdown",
   "id": "857001a9",
   "metadata": {},
   "source": [
    "$~$\n",
    "\n",
    "# IT Academy - Data Science Itinerary\n",
    "\n",
    "\n",
    "\n",
    "$~$"
   ]
  },
  {
   "cell_type": "markdown",
   "id": "ad6e86cc",
   "metadata": {},
   "source": [
    "## S14 T01: Create NoSQL database\n",
    "___\n"
   ]
  },
  {
   "cell_type": "code",
   "execution_count": 90,
   "id": "343f71ef",
   "metadata": {},
   "outputs": [],
   "source": [
    "#importing libraries\n",
    "from pymongo import MongoClient\n",
    "import requests\n",
    "import pprint "
   ]
  },
  {
   "cell_type": "markdown",
   "id": "7557656a",
   "metadata": {},
   "source": [
    "$~$\n",
    "___\n",
    "####  Exercise 1\n",
    "\n",
    "$~$\n",
    "\n",
    "Create a NoSQL database using MongoDB. Add some sample data to help you verify that you are able to process the information in a basic way.\n",
    "\n",
    "$~$\n",
    "___"
   ]
  },
  {
   "cell_type": "code",
   "execution_count": 79,
   "id": "248e5877",
   "metadata": {},
   "outputs": [],
   "source": [
    "#client connects to \"localhost\" by default\n",
    "client = MongoClient()\n",
    "#Create local \"nobel\" database on the fly\n",
    "db  = client[\"nobel\"]\n",
    "\n",
    "for colletion_name in [\"prizes\", \"laureates\"]:\n",
    "    response = requests.get(\n",
    "        \"http://api.nobelprize.org/v1/{}.json\".\\\n",
    "            format(colletion_name[:-1]))\n",
    "# convert the data to json \n",
    "    documents  = response.json()[colletion_name] \n",
    "\n",
    "#create colletions on the fly\n",
    "    db[colletion_name].insert_many(documents)"
   ]
  },
  {
   "cell_type": "code",
   "execution_count": 91,
   "id": "28e84a00",
   "metadata": {},
   "outputs": [
    {
     "name": "stdout",
     "output_type": "stream",
     "text": [
      "['admin', 'config', 'local', 'nobel']\n"
     ]
    }
   ],
   "source": [
    "# Save a list of names of the databases managed by client\n",
    "db_names = client.list_database_names()\n",
    "pprint.pp(db_names)"
   ]
  },
  {
   "cell_type": "code",
   "execution_count": 92,
   "id": "d12022c3",
   "metadata": {},
   "outputs": [
    {
     "name": "stdout",
     "output_type": "stream",
     "text": [
      "['prizes', 'laureates']\n"
     ]
    }
   ],
   "source": [
    "# Save a list of names of the collections managed by the \"nobel\" database\n",
    "nobel_coll_names = client.nobel.list_collection_names()\n",
    "pprint.pp(nobel_coll_names)"
   ]
  },
  {
   "cell_type": "code",
   "execution_count": 93,
   "id": "4616d98d",
   "metadata": {},
   "outputs": [
    {
     "name": "stdout",
     "output_type": "stream",
     "text": [
      "{'_id': ObjectId('62a7a63aa9875cfb4b81313f'),\n",
      " 'year': '2021',\n",
      " 'category': 'chemistry',\n",
      " 'laureates': [{'id': '1002',\n",
      "                'firstname': 'Benjamin',\n",
      "                'surname': 'List',\n",
      "                'motivation': '\"for the development of asymmetric '\n",
      "                              'organocatalysis\"',\n",
      "                'share': '2'},\n",
      "               {'id': '1003',\n",
      "                'firstname': 'David',\n",
      "                'surname': 'MacMillan',\n",
      "                'motivation': '\"for the development of asymmetric '\n",
      "                              'organocatalysis\"',\n",
      "                'share': '2'}]}\n",
      "{'_id': ObjectId('62a776fea9875cfb4b8129ad'),\n",
      " 'id': '1',\n",
      " 'firstname': 'Wilhelm Conrad',\n",
      " 'surname': 'Röntgen',\n",
      " 'born': '1845-03-27',\n",
      " 'died': '1923-02-10',\n",
      " 'bornCountry': 'Prussia (now Germany)',\n",
      " 'bornCountryCode': 'DE',\n",
      " 'bornCity': 'Lennep (now Remscheid)',\n",
      " 'diedCountry': 'Germany',\n",
      " 'diedCountryCode': 'DE',\n",
      " 'diedCity': 'Munich',\n",
      " 'gender': 'male',\n",
      " 'prizes': [{'year': '1901',\n",
      "             'category': 'physics',\n",
      "             'share': '1',\n",
      "             'motivation': '\"in recognition of the extraordinary services he '\n",
      "                           'has rendered by the discovery of the remarkable '\n",
      "                           'rays subsequently named after him\"',\n",
      "             'affiliations': [{'name': 'Munich University',\n",
      "                               'city': 'Munich',\n",
      "                               'country': 'Germany'}]}]}\n",
      "<class 'dict'>\n"
     ]
    }
   ],
   "source": [
    "# Retrieve sample prize and laureate documents\n",
    "prize = db.prizes.find_one()\n",
    "laureate = db.laureates.find_one()\n",
    "\n",
    "# Print the sample prize and laureate documents\n",
    "pprint.pp(prize)\n",
    "pprint.pp(laureate)\n",
    "pprint.pp(type(laureate))"
   ]
  },
  {
   "cell_type": "markdown",
   "id": "214112c9",
   "metadata": {},
   "source": [
    "$~$\n",
    "___\n",
    "####  Exercise 2\n",
    "\n",
    "$~$\n",
    "\n",
    "Connect the NoSQL database to Python using for example pymongo.\n",
    "\n",
    "$~$\n",
    "___"
   ]
  },
  {
   "cell_type": "markdown",
   "id": "d7caa1ff",
   "metadata": {},
   "source": [
    "$~$\n",
    "___\n",
    "####  Exercise 3\n",
    "\n",
    "$~$\n",
    "\n",
    "Load some simple queries to a Pandas Dataframe.\n",
    "\n",
    "$~$\n",
    "___"
   ]
  },
  {
   "cell_type": "markdown",
   "id": "39123083",
   "metadata": {},
   "source": [
    "$~$\n",
    "___\n",
    "####  Exercise 4\n",
    "\n",
    "$~$\n",
    "\n",
    "Generate a statistical summary of the information contained in the database.\n",
    "\n",
    "$~$\n",
    "___"
   ]
  },
  {
   "cell_type": "markdown",
   "id": "dca1eb0c",
   "metadata": {},
   "source": [
    "$~$\n",
    "___\n",
    "####  Conclusions\n",
    "\n",
    "$~$\n",
    "\n",
    "\n",
    "\n",
    "\n",
    "___\n",
    "$~$"
   ]
  },
  {
   "cell_type": "markdown",
   "id": "d0eedf5c",
   "metadata": {},
   "source": [
    "___\n",
    "$~$\n",
    "\n",
    "####  *References*:\n",
    "\n",
    "+ []() \n",
    "+ []() \n",
    "+ []() \n",
    "$~$\n",
    "___"
   ]
  }
 ],
 "metadata": {
  "kernelspec": {
   "display_name": "Python 3.9.5 64-bit ('3.9.5')",
   "language": "python",
   "name": "python3"
  },
  "language_info": {
   "codemirror_mode": {
    "name": "ipython",
    "version": 3
   },
   "file_extension": ".py",
   "mimetype": "text/x-python",
   "name": "python",
   "nbconvert_exporter": "python",
   "pygments_lexer": "ipython3",
   "version": "3.9.5"
  },
  "toc": {
   "base_numbering": 1,
   "nav_menu": {},
   "number_sections": false,
   "sideBar": true,
   "skip_h1_title": false,
   "title_cell": "Table of Contents",
   "title_sidebar": "Contents",
   "toc_cell": false,
   "toc_position": {},
   "toc_section_display": true,
   "toc_window_display": true
  },
  "vscode": {
   "interpreter": {
    "hash": "c196e456b92eeb3a60b06f99b3c60ac6c4763f8bb1169beee1475ccb9dd5a29f"
   }
  }
 },
 "nbformat": 4,
 "nbformat_minor": 5
}
